{
 "cells": [
  {
   "cell_type": "code",
   "execution_count": 13,
   "metadata": {
    "collapsed": true
   },
   "outputs": [],
   "source": [
    "# Organize imports\n",
    "import numpy as np\n",
    "import chainer\n",
    "from chainer import cuda, Function, gradient_check, report, training, utils, Variable\n",
    "from chainer import datasets, iterators, optimizers, serializers\n",
    "from chainer import Link, Chain, ChainList\n",
    "import chainer.functions as F\n",
    "import chainer.links as L\n",
    "from chainer.training import extensions\n",
    "from utils import RandomIterator, get_mnist\n",
    "import matplotlib.pyplot as plt\n",
    "import matplotlib"
   ]
  },
  {
   "cell_type": "code",
   "execution_count": 14,
   "metadata": {
    "collapsed": true
   },
   "outputs": [],
   "source": [
    "# Retrieve train & test data      \n",
    "train, test = get_mnist()\n",
    "# split test inputs and labels\n",
    "inputs, labels = np.array([tup[0] for tup in test]), np.array([tup[1] for tup in test])\n",
    "# Set up model & classifier\n",
    "model = MLP(10,10)\n",
    "classifier = Classifier(model)\n",
    "optimizer = optimizers.SGD()\n",
    "optimizer.setup(classifier)"
   ]
  },
  {
   "cell_type": "code",
   "execution_count": 31,
   "metadata": {
    "collapsed": true
   },
   "outputs": [],
   "source": [
    "# Define network & top classifier class\n",
    "class MLP(Chain):\n",
    "    \"\"\"\n",
    "    \n",
    "    Implementation of a 3-layer Multilayer Perceptron\n",
    "    \n",
    "    \"\"\"\n",
    "    def __init__(self, n_units, n_out):\n",
    "        super(MLP, self).__init__()\n",
    "        with self.init_scope():\n",
    "            self.l1 = L.Linear(None, n_units) # Input layer n_units -> n_units\n",
    "            self.l2 = L.Linear(None, n_units)\n",
    "            self.l3 = L.Linear(n_units, n_out)\n",
    "        \n",
    "    def __call__(self, x):\n",
    "        h1 = F.relu(self.l1(x))\n",
    "        h2 = F.relu(self.l2(h1))\n",
    "        output = self.l3(h2)\n",
    "        return output\n",
    "  \n",
    "class Classifier(Chain):\n",
    "    \"\"\"\n",
    "    Classifier chain on top of MLP chain \n",
    "    for accuracy evaluation and prediction\n",
    "    \n",
    "    \"\"\"\n",
    "    def __init__(self, predictor):\n",
    "        super(Classifier, self).__init__()\n",
    "        with self.init_scope():\n",
    "            self.predictor = predictor\n",
    "    \n",
    "    def __call__(self, x, t):\n",
    "        y = self.predictor(x)\n",
    "        loss = F.softmax_cross_entropy(y, t)\n",
    "        accuracy = F.accuracy(y, t)\n",
    "        report({'loss': loss, 'accuracy': accuracy}, self)\n",
    "        return loss\n"
   ]
  },
  {
   "cell_type": "code",
   "execution_count": 32,
   "metadata": {},
   "outputs": [],
   "source": [
    "# Retrieve train & test data      \n",
    "train, test = get_mnist(n_train=100, n_test=100)\n",
    "# split test inputs and labels\n",
    "inputs, labels = np.array([tup[0] for tup in test]), np.array([tup[1] for tup in test])\n",
    "# Set up model & classifier\n",
    "model = MLP(10,10)\n",
    "classifier = Classifier(model)\n",
    "optimizer = optimizers.SGD()\n",
    "optimizer.setup(classifier)\n"
   ]
  },
  {
   "cell_type": "code",
   "execution_count": 33,
   "metadata": {},
   "outputs": [
    {
     "name": "stdout",
     "output_type": "stream",
     "text": [
      "{'epoch': 1, 'train_loss': 2.3024972792594665}\n",
      "{'epoch': 1, 'test_loss': 2.297433614730835}\n",
      "{'epoch': 2, 'train_loss': 2.2762883940050678}\n",
      "{'epoch': 2, 'test_loss': 2.274179220199585}\n",
      "{'epoch': 3, 'train_loss': 2.2449710292200886}\n",
      "{'epoch': 3, 'test_loss': 2.244617462158203}\n",
      "{'epoch': 4, 'train_loss': 2.2060346680302776}\n",
      "{'epoch': 4, 'test_loss': 2.2102677822113037}\n",
      "{'epoch': 5, 'train_loss': 2.1649944628438642}\n",
      "{'epoch': 5, 'test_loss': 2.17476224899292}\n",
      "{'epoch': 6, 'train_loss': 2.123236740789106}\n",
      "{'epoch': 6, 'test_loss': 2.13771390914917}\n",
      "{'epoch': 7, 'train_loss': 2.0783579234153993}\n",
      "{'epoch': 7, 'test_loss': 2.0966148376464844}\n",
      "{'epoch': 8, 'train_loss': 2.0289291374145018}\n",
      "{'epoch': 8, 'test_loss': 2.0541906356811523}\n",
      "{'epoch': 9, 'train_loss': 1.9796749238044984}\n",
      "{'epoch': 9, 'test_loss': 2.0082406997680664}\n",
      "{'epoch': 10, 'train_loss': 1.9294930119668283}\n",
      "{'epoch': 10, 'test_loss': 1.961564064025879}\n",
      "{'epoch': 11, 'train_loss': 1.8765241292215162}\n",
      "{'epoch': 11, 'test_loss': 1.914106845855713}\n",
      "{'epoch': 12, 'train_loss': 1.8229480789553734}\n",
      "{'epoch': 12, 'test_loss': 1.8663984537124634}\n",
      "{'epoch': 13, 'train_loss': 1.7699365154389413}\n",
      "{'epoch': 13, 'test_loss': 1.8175747394561768}\n",
      "{'epoch': 14, 'train_loss': 1.7166482710069226}\n",
      "{'epoch': 14, 'test_loss': 1.7696070671081543}\n",
      "{'epoch': 15, 'train_loss': 1.6663037192436956}\n",
      "{'epoch': 15, 'test_loss': 1.7216663360595703}\n",
      "{'epoch': 16, 'train_loss': 1.608578082053892}\n",
      "{'epoch': 16, 'test_loss': 1.675126552581787}\n",
      "{'epoch': 17, 'train_loss': 1.5532180801514657}\n",
      "{'epoch': 17, 'test_loss': 1.6243252754211426}\n",
      "{'epoch': 18, 'train_loss': 1.5012900675496748}\n",
      "{'epoch': 18, 'test_loss': 1.5772678852081299}\n",
      "{'epoch': 19, 'train_loss': 1.4424954383603987}\n",
      "{'epoch': 19, 'test_loss': 1.5281201601028442}\n",
      "{'epoch': 20, 'train_loss': 1.3841062399648851}\n",
      "{'epoch': 20, 'test_loss': 1.4801493883132935}\n"
     ]
    }
   ],
   "source": [
    "# Implement the training & test loop\n",
    "\n",
    "iterator = RandomIterator(train,32)\n",
    "\n",
    "av_loss = []\n",
    "ep_loss = []\n",
    "test_loss = []\n",
    "for epoch in range(1,21):\n",
    "     for batch in iterator:\n",
    "        sources,targets = batch[0], batch[1]\n",
    "        classifier.cleargrads()\n",
    "        loss = F.sum(classifier(sources, targets))\n",
    "        loss.backward()\n",
    "        av_loss.append(loss.data)    \n",
    "        optimizer.update()\n",
    "     loss =  sum(av_loss) / len(av_loss)\n",
    "     print({'epoch': epoch, 'train_loss': loss})\n",
    "     ep_loss.append({'epoch': epoch, 'loss': loss})\n",
    "     # test classifier\n",
    "     loss = F.sum(classifier(inputs, labels))\n",
    "     print({'epoch': epoch, 'test_loss': float(loss.data)})\n",
    "     test_loss.append({'epoch': epoch, 'loss': loss.data})\n",
    "     av_loss = []"
   ]
  },
  {
   "cell_type": "code",
   "execution_count": 34,
   "metadata": {
    "scrolled": true
   },
   "outputs": [
    {
     "data": {
      "image/png": "[encoded data removed]",
      "text/plain": [
       "<matplotlib.figure.Figure at 0x7f1d3285f590>"
      ]
     },
     "metadata": {},
     "output_type": "display_data"
    }
   ],
   "source": [
    "matplotlib.style.use('ggplot')\n",
    "figure = plt.figure(figsize=(15,8))\n",
    "ax = figure.add_subplot(111)\n",
    "ax.set_xlabel('epoch')\n",
    "ax.set_ylabel('loss')\n",
    "e_train, l_train = [point['epoch'] for point in ep_loss], [point['loss'] for point in ep_loss]\n",
    "e_test, l_test = [point['epoch'] for point in test_loss], [point['loss'] for point in test_loss]\n",
    "plt.plot(e_train, l_train, 'b')\n",
    "plt.plot(e_test, l_test, 'r')\n",
    "plt.show() "
   ]
  },
  {
   "cell_type": "code",
   "execution_count": null,
   "metadata": {
    "collapsed": true
   },
   "outputs": [],
   "source": []
  },
  {
   "cell_type": "code",
   "execution_count": null,
   "metadata": {
    "collapsed": true
   },
   "outputs": [],
   "source": []
  }
 ],
 "metadata": {
  "kernelspec": {
   "display_name": "Python 2",
   "language": "python",
   "name": "python2"
  },
  "language_info": {
   "codemirror_mode": {
    "name": "ipython",
    "version": 2
   },
   "file_extension": ".py",
   "mimetype": "text/x-python",
   "name": "python",
   "nbconvert_exporter": "python",
   "pygments_lexer": "ipython2",
   "version": "2.7.13"
  }
 },
 "nbformat": 4,
 "nbformat_minor": 2
}
