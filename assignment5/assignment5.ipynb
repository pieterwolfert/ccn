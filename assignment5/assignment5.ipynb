{
 "cells": [
  {
   "cell_type": "markdown",
   "metadata": {},
   "source": [
    "### Assignment 5 \n",
    "Implementation of Qlearning and Neural Qlearning"
   ]
  },
  {
   "cell_type": "code",
   "execution_count": 9,
   "metadata": {
    "collapsed": true
   },
   "outputs": [],
   "source": [
    "from my_env import EvidenceEnv\n",
    "import numpy as np\n",
    "%matplotlib inline\n",
    "import matplotlib.pyplot as plt"
   ]
  },
  {
   "cell_type": "markdown",
   "metadata": {},
   "source": [
    "Define randomagent. "
   ]
  },
  {
   "cell_type": "code",
   "execution_count": 17,
   "metadata": {
    "collapsed": true
   },
   "outputs": [],
   "source": [
    "class RandomAgent(object):\n",
    "\n",
    "    def __init__(self, env):\n",
    "        self.env = env\n",
    "\n",
    "    def act(self, observation):\n",
    "        return np.random.choice(self.env.n_action)\n",
    "\n",
    "    def train(self, a, old_obs, r, new_obs):\n",
    "        pass\n",
    "    \n",
    "class TabularAgent(object):\n",
    "\n",
    "    def __init__(self, env):\n",
    "        self.env = env\n",
    "        self.Q = np.random.rand(4,2)\n",
    "        self.lr = 0.2\n",
    "        self.gamma = 0.9\n",
    "        \n",
    "    def act(self, observation):\n",
    "        return np.argmax(self.Q[observation,:])\n",
    "\n",
    "    def train(self, a, old_obs, r, new_obs):\n",
    "        self.Q[old_obs, a] = self.Q[old_obs, a] + \\\n",
    "            self.lr*(r + self.gamma*(self.Q[new_obs, self.act(new_obs)]) - self.Q[old_obs, a])\n",
    "        "
   ]
  },
  {
   "cell_type": "markdown",
   "metadata": {},
   "source": [
    "Run agent"
   ]
  },
  {
   "cell_type": "code",
   "execution_count": 18,
   "metadata": {
    "collapsed": true
   },
   "outputs": [],
   "source": [
    "#number of iterations\n",
    "n_iter = 1000\n",
    "#environment specs\n",
    "env = EvidenceEnv(n=2, p=0.95)\n",
    "#define agent\n",
    "agent = RandomAgent(env)\n",
    "#reset environment and agent\n",
    "obs = env.reset()\n",
    "reward = 0\n",
    "done = False\n",
    "R = []\n",
    "for step in range(n_iter):\n",
    "    env.render\n",
    "    action = agent.act(obs)\n",
    "    _obs, r, done, _ = env.step(action)\n",
    "    #no training involved for random agent\n",
    "    agent.train(action, obs, reward, _obs)\n",
    "    obs = _obs\n",
    "    reward += r\n",
    "    R.append(reward)"
   ]
  },
  {
   "cell_type": "markdown",
   "metadata": {},
   "source": [
    "### Assignment 1 \n",
    "Plot of the cummulative reward."
   ]
  },
  {
   "cell_type": "code",
   "execution_count": 19,
   "metadata": {},
   "outputs": [
    {
     "data": {
      "image/png": "[encoded data removed]",
      "text/plain": [
       "<matplotlib.figure.Figure at 0x7fa78dd791d0>"
      ]
     },
     "metadata": {},
     "output_type": "display_data"
    }
   ],
   "source": [
    "plt.plot(R)\n",
    "plt.show()"
   ]
  },
  {
   "cell_type": "markdown",
   "metadata": {},
   "source": [
    "### Assignment 2\n",
    "Implementation of tabular Q-learning"
   ]
  },
  {
   "cell_type": "code",
   "execution_count": 20,
   "metadata": {},
   "outputs": [],
   "source": [
    "# number of iterations\n",
    "n_iter = 1000\n",
    "#environment specs\n",
    "tab_env = EvidenceEnv(n=2, p=0.95)\n",
    "agent = TabularAgent(tab_env)\n",
    "obs = tab_env.asint(env.reset())\n",
    "reward = 0\n",
    "done = False\n",
    "R = []\n",
    "for step in range(n_iter):\n",
    "    env.render\n",
    "    action = agent.act(obs)\n",
    "    _obs, r, done, _ = tab_env.step(action)\n",
    "    _obs = tab_env.asint(_obs)\n",
    "    agent.train(action, obs, r, _obs)\n",
    "    obs = _obs\n",
    "    reward += r\n",
    "    R.append(reward)"
   ]
  },
  {
   "cell_type": "markdown",
   "metadata": {},
   "source": [
    "Plot of the cummulative reward over time."
   ]
  },
  {
   "cell_type": "code",
   "execution_count": 21,
   "metadata": {},
   "outputs": [
    {
     "data": {
      "image/png": "[encoded data removed]",
      "text/plain": [
       "<matplotlib.figure.Figure at 0x7fa78df6f3d0>"
      ]
     },
     "metadata": {},
     "output_type": "display_data"
    }
   ],
   "source": [
    "plt.plot(R)\n",
    "plt.show()"
   ]
  },
  {
   "cell_type": "markdown",
   "metadata": {},
   "source": [
    "### Assignment 3\n",
    "Implementation of NeuralQAgent"
   ]
  },
  {
   "cell_type": "code",
   "execution_count": 14,
   "metadata": {
    "collapsed": true
   },
   "outputs": [],
   "source": [
    "#todo"
   ]
  },
  {
   "cell_type": "markdown",
   "metadata": {},
   "source": [
    "Plot of the reward over time."
   ]
  },
  {
   "cell_type": "code",
   "execution_count": null,
   "metadata": {
    "collapsed": true
   },
   "outputs": [],
   "source": []
  }
 ],
 "metadata": {
  "kernelspec": {
   "display_name": "Python 2",
   "language": "python",
   "name": "python2"
  },
  "language_info": {
   "codemirror_mode": {
    "name": "ipython",
    "version": 2
   },
   "file_extension": ".py",
   "mimetype": "text/x-python",
   "name": "python",
   "nbconvert_exporter": "python",
   "pygments_lexer": "ipython2",
   "version": "2.7.13"
  }
 },
 "nbformat": 4,
 "nbformat_minor": 2
}
