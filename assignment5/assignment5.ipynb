{
 "cells": [
  {
   "cell_type": "markdown",
   "metadata": {},
   "source": [
    "### Assignment 5 \n",
    "Implementation of Qlearning and Neural Qlearning"
   ]
  },
  {
   "cell_type": "code",
   "execution_count": 47,
   "metadata": {
    "collapsed": true
   },
   "outputs": [],
   "source": [
    "from my_env import EvidenceEnv\n",
    "import chainer\n",
    "from chainer import Link, Chain, ChainList\n",
    "import chainer.functions as F\n",
    "import chainer.links as L\n",
    "from chainer import datasets, iterators, optimizers, serializers\n",
    "import chainer.training as training\n",
    "%matplotlib inline\n",
    "import matplotlib.pyplot as plt\n",
    "import matplotlib\n",
    "from chainer import iterators\n",
    "from chainer.cuda import to_cpu\n",
    "plt.style.use('ggplot')"
   ]
  },
  {
   "cell_type": "markdown",
   "metadata": {},
   "source": [
    "Define randomagent. "
   ]
  },
  {
   "cell_type": "code",
   "execution_count": 48,
   "metadata": {
    "collapsed": true
   },
   "outputs": [],
   "source": [
    "class RandomAgent(object):\n",
    "\n",
    "    def __init__(self, env):\n",
    "        self.env = env\n",
    "\n",
    "    def act(self, observation):\n",
    "        return np.random.choice(self.env.n_action)\n",
    "\n",
    "    def train(self, a, old_obs, r, new_obs):\n",
    "        pass        "
   ]
  },
  {
   "cell_type": "markdown",
   "metadata": {},
   "source": [
    "Run agent"
   ]
  },
  {
   "cell_type": "code",
   "execution_count": 49,
   "metadata": {
    "collapsed": true
   },
   "outputs": [],
   "source": [
    "#number of iterations\n",
    "n_iter = 1000\n",
    "#environment specs\n",
    "env = EvidenceEnv(n=2, p=0.95)\n",
    "#define agent\n",
    "agent = RandomAgent(env)\n",
    "#reset environment and agent\n",
    "obs = env.reset()\n",
    "reward = 0\n",
    "done = False\n",
    "R = []\n",
    "for step in range(n_iter):\n",
    "    env.render\n",
    "    action = agent.act(obs)\n",
    "    _obs, r, done, _ = env.step(action)\n",
    "    #no training involved for random agent\n",
    "    agent.train(action, obs, reward, _obs)\n",
    "    obs = _obs\n",
    "    reward += r\n",
    "    R.append(reward)"
   ]
  },
  {
   "cell_type": "markdown",
   "metadata": {},
   "source": [
    "### Assignment 1 \n",
    "Plot of the cummulative reward."
   ]
  },
  {
   "cell_type": "code",
   "execution_count": 50,
   "metadata": {
    "collapsed": false
   },
   "outputs": [
    {
     "data": {
      "image/png": "[encoded data removed]",
      "text/plain": [
       "<matplotlib.figure.Figure at 0x7f9e8fa8d450>"
      ]
     },
     "metadata": {},
     "output_type": "display_data"
    }
   ],
   "source": [
    "plt.plot(R)\n",
    "plt.show()"
   ]
  },
  {
   "cell_type": "markdown",
   "metadata": {},
   "source": [
    "### Assignment 2\n",
    "Implementation of tabular Q-learning"
   ]
  },
  {
   "cell_type": "markdown",
   "metadata": {},
   "source": [
    "Plot of the cummulative reward over time."
   ]
  },
  {
   "cell_type": "code",
   "execution_count": 51,
   "metadata": {
    "collapsed": true
   },
   "outputs": [],
   "source": [
    "class TabularAgent(object):\n",
    "\n",
    "    def __init__(self, env):\n",
    "        self.env = env\n",
    "        self.Q = np.random.rand(4,2)\n",
    "        self.lr = 0.2\n",
    "        self.gamma = 0.9\n",
    "        \n",
    "    def act(self, observation):\n",
    "        return np.argmax(self.Q[observation,:])\n",
    "    \n",
    "    def get_Q(self):\n",
    "        return np.copy(self.Q)\n",
    "\n",
    "    def train(self, a, old_obs, r, new_obs):\n",
    "        old_Q = self.Q[old_obs, a]\n",
    "        self.Q[old_obs, a] = self.Q[old_obs, a] + \\\n",
    "            self.lr*(r + self.gamma*(self.Q[new_obs, self.act(new_obs)]) - self.Q[old_obs, a])"
   ]
  },
  {
   "cell_type": "code",
   "execution_count": 52,
   "metadata": {
    "collapsed": false
   },
   "outputs": [],
   "source": [
    "# number of iterations\n",
    "n_iter = 1000\n",
    "#environment specs\n",
    "tab_env = EvidenceEnv(n=2, p=0.95)\n",
    "agent = TabularAgent(tab_env)\n",
    "Q_before = agent.get_Q()\n",
    "obs = tab_env.asint(env.reset())\n",
    "reward = 0\n",
    "done = False\n",
    "R = []\n",
    "for step in range(n_iter):\n",
    "    env.render\n",
    "    action = agent.act(obs)\n",
    "    _obs, r, done, _ = tab_env.step(action)\n",
    "    _obs = tab_env.asint(_obs)\n",
    "    agent.train(action, obs, r, _obs)\n",
    "    obs = _obs\n",
    "    reward += r\n",
    "    R.append(reward)\n",
    "Q_after = agent.get_Q()"
   ]
  },
  {
   "cell_type": "code",
   "execution_count": 53,
   "metadata": {
    "collapsed": false,
    "scrolled": false
   },
   "outputs": [
    {
     "name": "stdout",
     "output_type": "stream",
     "text": [
      "[[ 0.11549449  0.94317128]\n",
      " [ 0.47585659  0.18627768]\n",
      " [ 0.92994     0.18072901]\n",
      " [ 0.49132057  0.37068212]]\n",
      "[[ 9.19826069  0.01845801]\n",
      " [ 8.56754729  0.18627768]\n",
      " [ 7.71143213  0.18072901]\n",
      " [ 0.28149416  9.16918926]]\n"
     ]
    },
    {
     "data": {
      "image/png": "[encoded data removed]",
      "text/plain": [
       "<matplotlib.figure.Figure at 0x7f9e8f961610>"
      ]
     },
     "metadata": {},
     "output_type": "display_data"
    }
   ],
   "source": [
    "plt.plot(R)\n",
    "print(Q_before)\n",
    "print(Q_after)\n",
    "plt.show()"
   ]
  },
  {
   "cell_type": "code",
   "execution_count": 54,
   "metadata": {
    "collapsed": false,
    "scrolled": true
   },
   "outputs": [
    {
     "name": "stdout",
     "output_type": "stream",
     "text": [
      "[[ 0.11549449  0.47585659  0.92994     0.49132057]\n",
      " [ 0.94317128  0.18627768  0.18072901  0.37068212]]\n",
      "[[ 9.19826069  8.56754729  7.71143213  0.28149416]\n",
      " [ 0.01845801  0.18627768  0.18072901  9.16918926]]\n"
     ]
    },
    {
     "data": {
      "image/png": "[encoded data removed]",
      "text/plain": [
       "<matplotlib.figure.Figure at 0x7f9e8f4acb10>"
      ]
     },
     "metadata": {},
     "output_type": "display_data"
    }
   ],
   "source": [
    "#plot Q values\n",
    "plt.figure(1)\n",
    "plt.subplot(121)\n",
    "plt.imshow(np.transpose(Q_before))\n",
    "\n",
    "plt.subplot(122)\n",
    "plt.imshow(np.transpose(Q_after))\n",
    "plt.show\n",
    "\n",
    "print np.transpose(Q_before)\n",
    "print np.transpose(Q_after)\n"
   ]
  },
  {
   "cell_type": "markdown",
   "metadata": {},
   "source": [
    "### Assignment 3\n",
    "Implementation of NeuralQAgent"
   ]
  },
  {
   "cell_type": "code",
   "execution_count": 134,
   "metadata": {
    "collapsed": false
   },
   "outputs": [],
   "source": [
    "class NeuralQAgent(object):\n",
    "\n",
    "    def __init__(self, env, model, classifier, optimizer):\n",
    "        self.env = env\n",
    "        self.Q = np.random.rand(4,2)\n",
    "        self.lr = 0.2\n",
    "        self.gamma = 0.9\n",
    "        self.model = model\n",
    "        self.classifier = classifier\n",
    "        self.optimizer = optimizer\n",
    "        \n",
    "    def act(self, observation):\n",
    "        return np.argmax(self.Q[observation,:])\n",
    "    \n",
    "    def get_Q(self):\n",
    "        return np.copy(self.Q)\n",
    "\n",
    "    def train(self, a, old_obs, r, new_obs):\n",
    "        old_obs, new_obs = np.array(self.env.asbinary(old_obs, 2)), np.array(self.env.asbinary(new_obs, 2))\n",
    "        classifier.cleargrads()\n",
    "        predictionMaxQ = np.max(classifier(new_obs.astype('float32')).data)\n",
    "        Qtarget = r + self.gamma*predictionMaxQ\n",
    "        targets = np.zeros((self.env.n_action))\n",
    "        \n",
    "        targets[a] = Qtarget\n",
    "        y = classifier(old_obs.astype('float32')).data[1]\n",
    "        loss = 0.5*F.sum(F.squared_error(y.astype('float32'), targets.astype('float32')))\n",
    "        loss.backward()\n",
    "        optimizer.update()"
   ]
  },
  {
   "cell_type": "markdown",
   "metadata": {},
   "source": [
    "Defining the MLP"
   ]
  },
  {
   "cell_type": "code",
   "execution_count": 135,
   "metadata": {
    "collapsed": false
   },
   "outputs": [],
   "source": [
    "class MLP(Chain):\n",
    "    \"\"\"\n",
    "    \n",
    "    Implementation of a 3-layer Multilayer Perceptron\n",
    "    \n",
    "    \"\"\"\n",
    "    def __init__(self, n_units, n_out):\n",
    "        super(MLP, self).__init__()\n",
    "        with self.init_scope():\n",
    "            self.l1 = L.Linear(None, n_units) # Hidden layer\n",
    "            self.l2 = L.Linear(n_units, n_out) # Output layer\n",
    "        \n",
    "    def __call__(self, x):\n",
    "        h1 = F.relu(self.l1(x))\n",
    "        output = self.l2(h1)\n",
    "        return output\n",
    "  \n",
    "class Regressor(Chain):\n",
    "    \"\"\"\n",
    "\n",
    "    Regressor chain on top of Neural Network chain \n",
    "    for accuracy evaluation and prediction\n",
    " \n",
    "    \"\"\"\n",
    "    def __init__(self, predictor):\n",
    "        super(Regressor, self).__init__()\n",
    "        with self.init_scope():\n",
    "            self.predictor = predictor\n",
    "\n",
    "    def __call__(self, x):\n",
    "        x = F.expand_dims(x,1)\n",
    "        y = self.predictor(x)\n",
    "        #loss = F.mean_squared_error(y, t)\n",
    "        return y"
   ]
  },
  {
   "cell_type": "markdown",
   "metadata": {},
   "source": [
    "Training loop."
   ]
  },
  {
   "cell_type": "code",
   "execution_count": 145,
   "metadata": {
    "collapsed": false,
    "scrolled": false
   },
   "outputs": [],
   "source": [
    "#number of iterations\n",
    "n_iter = 1000\n",
    "#environment specs\n",
    "env = EvidenceEnv(n=2, p=0.95)\n",
    "#define agent\n",
    "model = MLP(2, 2)\n",
    "classifier = Regressor(model)\n",
    "optimizer = optimizers.SGD()\n",
    "optimizer.setup(classifier)\n",
    "agent = NeuralQAgent(env, model, classifier, optimizer)\n",
    "#reset environment and agent\n",
    "Q_before = agent.get_Q()\n",
    "obs = tab_env.asint(env.reset())\n",
    "reward = 0\n",
    "done = False\n",
    "R = []\n",
    "for step in range(n_iter):\n",
    "    env.render\n",
    "    action = agent.act(obs)\n",
    "    _obs, r, done, _ = env.step(action)\n",
    "    _obs = tab_env.asint(_obs)\n",
    "    agent.train(action, obs, reward, _obs)\n",
    "    obs = _obs\n",
    "    reward += r\n",
    "    R.append(reward)\n",
    "Q_after = agent.get_Q()"
   ]
  },
  {
   "cell_type": "code",
   "execution_count": 146,
   "metadata": {
    "collapsed": false
   },
   "outputs": [
    {
     "data": {
      "image/png": "[encoded data removed]",
      "text/plain": [
       "<matplotlib.figure.Figure at 0x7f9e8f4d0a10>"
      ]
     },
     "metadata": {},
     "output_type": "display_data"
    }
   ],
   "source": [
    "plt.plot(R)\n",
    "plt.show()"
   ]
  },
  {
   "cell_type": "code",
   "execution_count": 147,
   "metadata": {
    "collapsed": false
   },
   "outputs": [
    {
     "name": "stdout",
     "output_type": "stream",
     "text": [
      "[[ 0.94260088  0.61872913  0.33386864  0.72281122]\n",
      " [ 0.81262318  0.25506708  0.92112319  0.87386781]]\n",
      "[[ 0.94260088  0.61872913  0.33386864  0.72281122]\n",
      " [ 0.81262318  0.25506708  0.92112319  0.87386781]]\n"
     ]
    },
    {
     "data": {
      "image/png": "[encoded data removed]",
      "text/plain": [
       "<matplotlib.figure.Figure at 0x7f9e8faea4d0>"
      ]
     },
     "metadata": {},
     "output_type": "display_data"
    }
   ],
   "source": [
    "#plot Q values\n",
    "plt.figure(1)\n",
    "plt.subplot(121)\n",
    "plt.imshow(np.transpose(Q_before))\n",
    "\n",
    "plt.subplot(122)\n",
    "plt.imshow(np.transpose(Q_after))\n",
    "plt.show\n",
    "\n",
    "print np.transpose(Q_before)\n",
    "print np.transpose(Q_after)"
   ]
  },
  {
   "cell_type": "code",
   "execution_count": null,
   "metadata": {
    "collapsed": true
   },
   "outputs": [],
   "source": []
  }
 ],
 "metadata": {
  "kernelspec": {
   "display_name": "Python 2 CCN",
   "language": "python",
   "name": "ccn"
  },
  "language_info": {
   "codemirror_mode": {
    "name": "ipython",
    "version": 2
   },
   "file_extension": ".py",
   "mimetype": "text/x-python",
   "name": "python",
   "nbconvert_exporter": "python",
   "pygments_lexer": "ipython2",
   "version": "2.7.13"
  }
 },
 "nbformat": 4,
 "nbformat_minor": 2
}
