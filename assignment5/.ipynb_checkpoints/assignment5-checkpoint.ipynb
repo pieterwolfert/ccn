{
 "cells": [
  {
   "cell_type": "markdown",
   "metadata": {},
   "source": [
    "### Assignment 5 \n",
    "Implementation of a Tabular Q-learning agent and an MLP based Neural Q-learning agent \n",
    "\n",
    "Authors: Abdullahi Ali, Pieter Wolfert"
   ]
  },
  {
   "cell_type": "code",
   "execution_count": 101,
   "metadata": {
    "collapsed": true
   },
   "outputs": [],
   "source": [
    "from my_env import EvidenceEnv\n",
    "import chainer\n",
    "from chainer import Link, Chain, ChainList\n",
    "import chainer.functions as F\n",
    "import chainer.links as L\n",
    "from chainer import optimizers\n",
    "%matplotlib inline\n",
    "import matplotlib.pyplot as plt\n",
    "import matplotlib\n",
    "import numpy as np\n",
    "import itertools\n",
    "plt.style.use('ggplot')"
   ]
  },
  {
   "cell_type": "markdown",
   "metadata": {},
   "source": [
    "Definition of an agent that picks random actions. Given in the assignment. "
   ]
  },
  {
   "cell_type": "code",
   "execution_count": 102,
   "metadata": {
    "collapsed": true
   },
   "outputs": [],
   "source": [
    "class RandomAgent(object):\n",
    "\n",
    "    def __init__(self, env):\n",
    "        self.env = env\n",
    "\n",
    "    def act(self, observation):\n",
    "        return np.random.choice(self.env.n_action)\n",
    "\n",
    "    def train(self, a, old_obs, r, new_obs):\n",
    "        pass        "
   ]
  },
  {
   "cell_type": "markdown",
   "metadata": {},
   "source": [
    "Training loop for the random agent. Again given in the assignment"
   ]
  },
  {
   "cell_type": "code",
   "execution_count": 103,
   "metadata": {
    "collapsed": true
   },
   "outputs": [],
   "source": [
    "#number of iterations\n",
    "n_iter = 1000\n",
    "#environment specs\n",
    "env = EvidenceEnv(n=2, p=0.95)\n",
    "#define agent\n",
    "agent = RandomAgent(env)\n",
    "#reset environment and agent\n",
    "obs = env.reset()\n",
    "reward = 0\n",
    "done = False\n",
    "R = []\n",
    "for step in range(n_iter):\n",
    "    env.render\n",
    "    action = agent.act(obs)\n",
    "    _obs, r, done, _ = env.step(action)\n",
    "    #no training involved for random agent\n",
    "    agent.train(action, obs, reward, _obs)\n",
    "    obs = _obs\n",
    "    reward += r\n",
    "    R.append(reward)"
   ]
  },
  {
   "cell_type": "markdown",
   "metadata": {},
   "source": [
    "### Assignment 1 \n",
    "Plot of the cumulative reward. As can be seen in from the plot, the cumulative reward heavily fluctuates over time. This is to be expected form an agent with random behaviour."
   ]
  },
  {
   "cell_type": "code",
   "execution_count": 104,
   "metadata": {},
   "outputs": [
    {
     "data": {
      "image/png": "[encoded data removed]",
      "text/plain": [
       "<matplotlib.figure.Figure at 0x7fbaaf0eca10>"
      ]
     },
     "metadata": {},
     "output_type": "display_data"
    }
   ],
   "source": [
    "plt.plot(R)\n",
    "plt.show()"
   ]
  },
  {
   "cell_type": "markdown",
   "metadata": {},
   "source": [
    "### Assignment 2: Tabular Q-learning Agent\n",
    "Implementation of tabular Q-learning. We initialise the Q-table with random numbers when creating the agent. The learning rate (lr) was determined by trying out several values and see what worked best. The discount factor (gamma) is based on the blog:  http://neuro.cs.ut.ee/demystifying-deep-reinforcement-learning/."
   ]
  },
  {
   "cell_type": "code",
   "execution_count": 105,
   "metadata": {
    "collapsed": true
   },
   "outputs": [],
   "source": [
    "class TabularAgent(object):\n",
    "\n",
    "    def __init__(self, env):\n",
    "        self.env = env\n",
    "        self.Q = np.random.rand(4,2)\n",
    "        self.lr = 0.2\n",
    "        self.gamma = 0.9\n",
    "        \n",
    "    def act(self, observation):\n",
    "        return np.argmax(self.Q[observation,:])\n",
    "    \n",
    "    def get_Q(self):\n",
    "        return np.copy(self.Q)\n",
    "\n",
    "    def train(self, a, old_obs, r, new_obs):\n",
    "        old_Q = self.Q[old_obs, a]\n",
    "        self.Q[old_obs, a] = self.Q[old_obs, a] + \\\n",
    "            self.lr*(r + self.gamma*(self.Q[new_obs, self.act(new_obs)]) - self.Q[old_obs, a])"
   ]
  },
  {
   "cell_type": "markdown",
   "metadata": {},
   "source": [
    "#### Training\n",
    "Training loop for learning Q-values for the Tabular Q-learning agent. We use the same parameters as in the random case (1000 iterations n=2 and p=0.95). For every iteration, the agent carries out an action, observes a reward and a new state and uses this information to update the Q-value."
   ]
  },
  {
   "cell_type": "code",
   "execution_count": 106,
   "metadata": {
    "collapsed": true
   },
   "outputs": [],
   "source": [
    "# number of iterations\n",
    "n_iter = 1000\n",
    "#environment specs\n",
    "tab_env = EvidenceEnv(n=2, p=0.95)\n",
    "agent = TabularAgent(tab_env)\n",
    "Q_before = agent.get_Q()\n",
    "obs = tab_env.asint(env.reset())\n",
    "reward = 0\n",
    "done = False\n",
    "R = []\n",
    "for step in range(n_iter):\n",
    "    env.render\n",
    "    action = agent.act(obs)\n",
    "    _obs, r, done, _ = tab_env.step(action)\n",
    "    _obs = tab_env.asint(_obs)\n",
    "    agent.train(action, obs, r, _obs)\n",
    "    obs = _obs\n",
    "    reward += r\n",
    "    R.append(reward)\n",
    "Q_after = agent.get_Q()"
   ]
  },
  {
   "cell_type": "markdown",
   "metadata": {},
   "source": [
    "Plot of the cumulative reward. This plot shows a linear increase in reward over iterations, which means that the agent mostly picks succesfull actions at each state and proves that it learns to accumulate rewards over time."
   ]
  },
  {
   "cell_type": "code",
   "execution_count": 107,
   "metadata": {
    "scrolled": false
   },
   "outputs": [
    {
     "data": {
      "image/png": "[encoded data removed]",
      "text/plain": [
       "<matplotlib.figure.Figure at 0x7fbaaf4ebe10>"
      ]
     },
     "metadata": {},
     "output_type": "display_data"
    }
   ],
   "source": [
    "plt.plot(R)\n",
    "plt.show()"
   ]
  },
  {
   "cell_type": "markdown",
   "metadata": {},
   "source": [
    "Plot of the Q values before and after learning. "
   ]
  },
  {
   "cell_type": "code",
   "execution_count": 108,
   "metadata": {
    "scrolled": true
   },
   "outputs": [
    {
     "data": {
      "text/plain": [
       "<function matplotlib.pyplot.show>"
      ]
     },
     "execution_count": 108,
     "metadata": {},
     "output_type": "execute_result"
    },
    {
     "data": {
      "image/png": "[encoded data removed]",
      "text/plain": [
       "<matplotlib.figure.Figure at 0x7fbaaf8df2d0>"
      ]
     },
     "metadata": {},
     "output_type": "display_data"
    }
   ],
   "source": [
    "plt.figure(1)\n",
    "plt.subplot(121)\n",
    "plt.imshow(np.transpose(Q_before))\n",
    "\n",
    "plt.subplot(122)\n",
    "plt.imshow(np.transpose(Q_after))\n",
    "plt.show"
   ]
  },
  {
   "cell_type": "markdown",
   "metadata": {},
   "source": [
    "### Assignment 3\n",
    "Implementation of NeuralQAgent. NeuralQAgent takes a classifier, which predicts the Q-values on the basis of the observations"
   ]
  },
  {
   "cell_type": "code",
   "execution_count": 172,
   "metadata": {},
   "outputs": [],
   "source": [
    "class NeuralQAgent(object):\n",
    "\n",
    "    def __init__(self, env, model, classifier, optimizer):\n",
    "        self.env = env\n",
    "        #self.Q = np.random.rand(4,2)\n",
    "        self.lr = 0.15\n",
    "        self.gamma = 0.9\n",
    "        self.model = model\n",
    "        self.classifier = classifier\n",
    "        self.optimizer = optimizer\n",
    "        \n",
    "    def act(self, observation):\n",
    "        observation = np.array(observation).astype('float32')\n",
    "        prediction = self.classifier(observation).data\n",
    "        return np.argmax(prediction[1])\n",
    "    \n",
    "    def get_Q(self):\n",
    "        # Construct Q-table\n",
    "        Q = np.random.rand(4,2)\n",
    "        states = map(list, itertools.product([0, 1], repeat=2))\n",
    "        for state in states:\n",
    "            state = np.array(state).astype('float32')\n",
    "            Q[self.env.asint(state),:] = classifier(state).data[1].astype('float32')\n",
    "        return Q\n",
    "\n",
    "    def train(self, a, old_obs, r, new_obs):\n",
    "        old_obs, new_obs = np.array(old_obs).astype('float32'), np.array(new_obs).astype('float32')\n",
    "        self.classifier.cleargrads()\n",
    "        predictionMaxQ = np.max(self.classifier(new_obs).data)\n",
    "        Qtarget = self.lr(r + self.gamma*predictionMaxQ)\n",
    "        targets = np.zeros((self.env.n_action)).astype('float32')\n",
    "        targets[a] = Qtarget\n",
    "        y = classifier(old_obs).data[1].astype('float32')\n",
    "        #self.Q[old_obs, a] = y\n",
    "        loss = 0.5*F.sum(F.squared_error(y, targets))\n",
    "        loss.backward()\n",
    "        self.optimizer.update()"
   ]
  },
  {
   "cell_type": "markdown",
   "metadata": {},
   "source": [
    "#### Network Structure\n",
    "Chainer is used to define the structure for the MLP."
   ]
  },
  {
   "cell_type": "code",
   "execution_count": 173,
   "metadata": {
    "collapsed": true
   },
   "outputs": [],
   "source": [
    "class MLP(Chain):\n",
    "    \"\"\"\n",
    "    \n",
    "    Implementation of a 3-layer Multilayer Perceptron\n",
    "    \n",
    "    \"\"\"\n",
    "    def __init__(self, n_units, n_out):\n",
    "        super(MLP, self).__init__()\n",
    "        with self.init_scope():\n",
    "            self.l1 = L.Linear(None, n_units) # Hidden layer\n",
    "            self.l2 = L.Linear(n_units, n_out) # Output layer\n",
    "        \n",
    "    def __call__(self, x):\n",
    "        h1 = F.relu(self.l1(x))\n",
    "        output = self.l2(h1)\n",
    "        return output\n",
    "  \n",
    "class Regressor(Chain):\n",
    "    \"\"\"\n",
    "\n",
    "    Regressor chain on top of Neural Network chain \n",
    "    for accuracy evaluation and prediction\n",
    " \n",
    "    \"\"\"\n",
    "    def __init__(self, predictor):\n",
    "        super(Regressor, self).__init__()\n",
    "        with self.init_scope():\n",
    "            self.predictor = predictor\n",
    "\n",
    "    def __call__(self, x):\n",
    "        x = F.expand_dims(x,1)\n",
    "        y = self.predictor(x)\n",
    "        return y"
   ]
  },
  {
   "cell_type": "markdown",
   "metadata": {},
   "source": [
    "#### Training\n",
    "An MLP learns the Q value (optimal policy). "
   ]
  },
  {
   "cell_type": "code",
   "execution_count": 174,
   "metadata": {
    "scrolled": false
   },
   "outputs": [],
   "source": [
    "#number of iterations\n",
    "n_iter = 1000\n",
    "#environment specs\n",
    "env = EvidenceEnv(n=2, p=0.95)\n",
    "#define agent\n",
    "model = MLP(2, 2)\n",
    "classifier = Regressor(model)\n",
    "optimizer = optimizers.SGD()\n",
    "optimizer.setup(classifier)\n",
    "agent = NeuralQAgent(env, model, classifier, optimizer)\n",
    "#reset environment and agent\n",
    "Q_before = agent.get_Q()\n",
    "obs = env.reset()\n",
    "reward = 0\n",
    "done = False\n",
    "R = []\n",
    "for step in range(n_iter):\n",
    "    env.render\n",
    "    action = agent.act(obs)\n",
    "    _obs, r, done, _ = env.step(action)\n",
    "    agent.train(action, obs, reward, _obs)\n",
    "    obs = _obs\n",
    "    reward += r\n",
    "    R.append(reward)\n",
    "Q_after = agent.get_Q()"
   ]
  },
  {
   "cell_type": "markdown",
   "metadata": {},
   "source": [
    "#### Cumulative Reward\n",
    "This plot shows the cumulative reward (summation of rewards over time). Like the Tabular Agent this networks learns to accumulate rewards over time, but the performance is not as stable over each training session. "
   ]
  },
  {
   "cell_type": "code",
   "execution_count": 175,
   "metadata": {
    "scrolled": true
   },
   "outputs": [
    {
     "data": {
      "image/png": "[encoded data removed]",
      "text/plain": [
       "<matplotlib.figure.Figure at 0x7fbaaf0c92d0>"
      ]
     },
     "metadata": {},
     "output_type": "display_data"
    }
   ],
   "source": [
    "plt.plot(R)\n",
    "plt.show()"
   ]
  },
  {
   "cell_type": "markdown",
   "metadata": {},
   "source": [
    "This plot shows the randomized Q values (Q_before) and the learned Q values (Q_after)."
   ]
  },
  {
   "cell_type": "code",
   "execution_count": 176,
   "metadata": {},
   "outputs": [
    {
     "data": {
      "text/plain": [
       "<function matplotlib.pyplot.show>"
      ]
     },
     "execution_count": 176,
     "metadata": {},
     "output_type": "execute_result"
    },
    {
     "data": {
      "image/png": "[encoded data removed]",
      "text/plain": [
       "<matplotlib.figure.Figure at 0x7fbaaf7e2ed0>"
      ]
     },
     "metadata": {},
     "output_type": "display_data"
    }
   ],
   "source": [
    "plt.figure(1)\n",
    "plt.subplot(121)\n",
    "plt.imshow(np.transpose(Q_before))\n",
    "\n",
    "plt.subplot(122)\n",
    "plt.imshow(np.transpose(Q_after))\n",
    "plt.show"
   ]
  },
  {
   "cell_type": "code",
   "execution_count": null,
   "metadata": {
    "collapsed": true
   },
   "outputs": [],
   "source": []
  }
 ],
 "metadata": {
  "kernelspec": {
   "display_name": "Python 2",
   "language": "python",
   "name": "python2"
  },
  "language_info": {
   "codemirror_mode": {
    "name": "ipython",
    "version": 2
   },
   "file_extension": ".py",
   "mimetype": "text/x-python",
   "name": "python",
   "nbconvert_exporter": "python",
   "pygments_lexer": "ipython2",
   "version": "2.7.13"
  }
 },
 "nbformat": 4,
 "nbformat_minor": 2
}
