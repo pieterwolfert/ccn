{
 "cells": [
  {
   "cell_type": "markdown",
   "metadata": {},
   "source": [
    "# Practical Assignment 3"
   ]
  },
  {
   "cell_type": "markdown",
   "metadata": {},
   "source": [
    "In this assignment a RNN is trained. "
   ]
  },
  {
   "cell_type": "code",
   "execution_count": 16,
   "metadata": {
    "collapsed": true
   },
   "outputs": [],
   "source": [
    "from __future__ import division\n",
    "\n",
    "import numpy as np\n",
    "import chainer\n",
    "from chainer import Link, Chain, ChainList\n",
    "import chainer.functions as F\n",
    "import chainer.links as L\n",
    "from chainer.datasets import TupleDataset\n",
    "import chainer.training\n",
    "import matplotlib.pyplot as plt\n",
    "import matplotlib\n",
    "from chainer import iterators"
   ]
  },
  {
   "cell_type": "markdown",
   "metadata": {},
   "source": [
    "#### Visualization function"
   ]
  },
  {
   "cell_type": "markdown",
   "metadata": {},
   "source": [
    "The cell below implements the visualisation of the losses. \"ggplot\" is used to create fancier plots than the vanilla matplotlib plots. The y-axis displays the loss and the x-axis displays the epochs, with a step size of 5. "
   ]
  },
  {
   "cell_type": "code",
   "execution_count": 17,
   "metadata": {
    "collapsed": true
   },
   "outputs": [],
   "source": [
    "def compute_loss(inputs, labels, model):\n",
    "    loss = model(inputs, labels)\n",
    "    return loss\n",
    "\n",
    "def visualize_loss(train_loss, test_loss, nr_epochs=20):\n",
    "    matplotlib.style.use('ggplot')\n",
    "    figure = plt.figure(figsize=(15, 8))\n",
    "    ax = figure.add_subplot(111)\n",
    "    ax.set_xlabel('epoch')\n",
    "    ax.set_ylabel('loss')\n",
    "    xticks = np.arange(1, nr_epochs+1, 5)\n",
    "    ax.set_xticks(xticks)\n",
    "    epochs = range(1, nr_epochs + 1)\n",
    "    train, = plt.plot(epochs, train_loss, 'b', label='train loss')\n",
    "    test, = plt.plot(epochs, test_loss, 'r', label='test loss')\n",
    "    plt.legend([train, test], ['train loss', 'test loss'])\n",
    "    plt.show()"
   ]
  },
  {
   "cell_type": "markdown",
   "metadata": {},
   "source": [
    "### RNN\n"
   ]
  },
  {
   "cell_type": "markdown",
   "metadata": {},
   "source": [
    "####  Defining the network\n",
    "In the next 2 classes the recurrent neural network is defined. \n"
   ]
  },
  {
   "cell_type": "code",
   "execution_count": 18,
   "metadata": {},
   "outputs": [],
   "source": [
    "class RNN(Chain):\n",
    "    def __init__(self):\n",
    "        super(RNN, self).__init__()\n",
    "        with self.init_scope():\n",
    "            self.lstm = L.LSTM(None,1) \n",
    "            self.linear = L.Linear(None,1)\n",
    "                \n",
    "    def reset_state(self):\n",
    "        self.lstm.reset_state()\n",
    "\n",
    "    def __call__(self, x):\n",
    "        # Given the current input compute the sum\n",
    "        h = self.lstm(x)\n",
    "        y = self.linear(h)\n",
    "        return y\n",
    "\n",
    "\n",
    "class Regressor(Chain):\n",
    "    \"\"\"\n",
    "\n",
    "    Regressor chain on top of Neural Network chain \n",
    "    for accuracy evaluation and prediction\n",
    " \n",
    "    \"\"\"\n",
    "    def __init__(self, predictor):\n",
    "        super(Regressor, self).__init__()\n",
    "        with self.init_scope():\n",
    "            self.predictor = predictor\n",
    "\n",
    "    def __call__(self, x, t):\n",
    "        y = self.predictor(x)\n",
    "        loss = F.mean_squared_error(x, y)\n",
    "        return loss\n"
   ]
  },
  {
   "cell_type": "markdown",
   "metadata": {},
   "source": [
    "The next class shows the backprop through time method."
   ]
  },
  {
   "cell_type": "code",
   "execution_count": 19,
   "metadata": {
    "collapsed": true
   },
   "outputs": [],
   "source": [
    "class BPTTUpdater(chainer.training.StandardUpdater):\n",
    "\n",
    "    def __init__(self, train_iter, optimizer, bprop_len):\n",
    "        super(BPTTUpdater, self).__init__(train_iter, optimizer)\n",
    "        self.bprop_len = bprop_len\n",
    "\n",
    "    # The core part of the update routine can be customized by overriding.\n",
    "    def update_core(self):\n",
    "        loss = 0\n",
    "        # When we pass one iterator and optimizer to StandardUpdater.__init__,\n",
    "        # they are automatically named 'main'.\n",
    "        train_iter = self.get_iterator('main')\n",
    "        optimizer = self.get_optimizer('main')\n",
    "\n",
    "        # Progress the dataset iterator for bprop_len words at each iteration.\n",
    "        for i in range(self.bprop_len):\n",
    "            # Get the next batch (a list of tuples of two word IDs)\n",
    "            batch = train_iter.__next__()\n",
    "\n",
    "            # Concatenate the word IDs to matrices and send them to the device\n",
    "            # self.converter does this job\n",
    "            # (it is chainer.dataset.concat_examples by default)\n",
    "            x, t = self.converter(batch)\n",
    "\n",
    "            # Compute the loss at this time step and accumulate it\n",
    "            loss += optimizer.target(chainer.Variable(x), chainer.Variable(t))\n",
    "\n",
    "        optimizer.target.cleargrads()  # Clear the parameter gradients\n",
    "        loss.backward()  # Backprop\n",
    "        optimizer.update()  # Update the parameters\n",
    "        return loss"
   ]
  },
  {
   "cell_type": "markdown",
   "metadata": {},
   "source": [
    "Datacreator method, as given in the course."
   ]
  },
  {
   "cell_type": "code",
   "execution_count": 20,
   "metadata": {
    "collapsed": true
   },
   "outputs": [],
   "source": [
    "def create_data(n=3000):\n",
    "    X = np.random.rand(n, 1).astype('float32')\n",
    "    T = np.sum(np.hstack((X[0:-1], X[1:])), axis=1)\n",
    "    T = np.hstack([0, T[0:]]).astype('float32')\n",
    "    T = T.reshape([n, 1])\n",
    "\n",
    "    return TupleDataset(X, T)"
   ]
  },
  {
   "cell_type": "markdown",
   "metadata": {},
   "source": [
    "Trainingloop"
   ]
  },
  {
   "cell_type": "code",
   "execution_count": 21,
   "metadata": {},
   "outputs": [
    {
     "data": {
      "image/png": "[encoded data removed]",
      "text/plain": [
       "<matplotlib.figure.Figure at 0x7f61e3a079d0>"
      ]
     },
     "metadata": {},
     "output_type": "display_data"
    }
   ],
   "source": [
    "train_data = create_data()\n",
    "test_data = create_data()\n",
    "inputs, labels = np.array([tup[0] for tup in test_data]), np.array([tup[1] for tup in test_data])\n",
    "\n",
    "train_iter = iterators.SerialIterator(train_data, 100)\n",
    "rnn = RNN()\n",
    "regressor = Regressor(rnn)\n",
    "optimizer = chainer.optimizers.SGD()\n",
    "optimizer.setup(regressor)\n",
    "updater = BPTTUpdater(train_iter, optimizer,3)\n",
    "train_loss, test_loss = [], []\n",
    "for i in range(50):\n",
    "    train_loss.append(updater.update_core().data)\n",
    "    rnn.reset_state()\n",
    "    test_loss.append(compute_loss(inputs, labels, regressor).data)\n",
    "    \n",
    "\n",
    "visualize_loss(train_loss, test_loss, nr_epochs=50)"
   ]
  }
 ],
 "metadata": {
  "kernelspec": {
   "display_name": "Python CCN",
   "language": "python",
   "name": "ccn"
  },
  "language_info": {
   "codemirror_mode": {
    "name": "ipython",
    "version": 2
   },
   "file_extension": ".py",
   "mimetype": "text/x-python",
   "name": "python",
   "nbconvert_exporter": "python",
   "pygments_lexer": "ipython2",
   "version": "2.7.13"
  }
 },
 "nbformat": 4,
 "nbformat_minor": 2
}
